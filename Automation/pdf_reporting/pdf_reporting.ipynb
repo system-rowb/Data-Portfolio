{
 "cells": [
  {
   "attachments": {},
   "cell_type": "markdown",
   "metadata": {},
   "source": [
    "# **Replica of: [Create PDF with Python](https://www.youtube.com/watch?v=q70xzDG6nls&list=PLjNQtX45f0dR9K2sMJ5ad9wVjqslNBIC0) series**\n",
    "---"
   ]
  },
  {
   "attachments": {},
   "cell_type": "markdown",
   "metadata": {},
   "source": [
    "## **Part 1**"
   ]
  },
  {
   "cell_type": "code",
   "execution_count": 43,
   "metadata": {},
   "outputs": [],
   "source": [
    "# Import the fpdf library\n",
    "from fpdf import FPDF\n",
    "import random"
   ]
  },
  {
   "attachments": {},
   "cell_type": "markdown",
   "metadata": {},
   "source": [
    "Create a `FPDF` object.\n",
    "\n",
    "Three arguments in the `FPDF` object:\n",
    "- **Layout**: The orientation, **portrait (vertical)** or **landscape (horizontal)** `('P', 'F')` \n",
    "- **Unit**: The unit of measurement `('mm', 'cm', 'in')`\n",
    "- **Format**: The format i.e. page size `('A3', 'A4' (default), 'A5', 'Letter', 'Legal', # custom (100, 150))`"
   ]
  },
  {
   "cell_type": "code",
   "execution_count": 36,
   "metadata": {},
   "outputs": [],
   "source": [
    "# Create the object\n",
    "pdf = FPDF('P', 'mm', 'Letter')"
   ]
  },
  {
   "cell_type": "code",
   "execution_count": 37,
   "metadata": {},
   "outputs": [],
   "source": [
    "# Add a page\n",
    "pdf.add_page()"
   ]
  },
  {
   "attachments": {},
   "cell_type": "markdown",
   "metadata": {},
   "source": [
    "Specify font. The availables are:\n",
    "- `('time', 'courier', 'helvetica', 'symbol', 'zpfdingbats')`\n",
    "\n",
    "We can also set the **font style**, the availables are:\n",
    "- `('B' (bold), 'U' (underline), 'I' (italics), '' (regular), combination (i.e. ('BU') for bold and underlined))`\n"
   ]
  },
  {
   "cell_type": "code",
   "execution_count": 38,
   "metadata": {},
   "outputs": [],
   "source": [
    "# Set the font (`font`, `font_style`, `font_size`)\n",
    "pdf.set_font('helvetica', '', 16)"
   ]
  },
  {
   "attachments": {},
   "cell_type": "markdown",
   "metadata": {},
   "source": [
    "Add text by adding a `cell` or `multicell`. The former is used for **single line text** and the later for **multi line text**.\n",
    "\n",
    "With cell we got some important arguments:\n",
    "- `width`: A with of 0 indicates that the whole width of the `FPDF` instance will be used.\n",
    "- `height`\n",
    "\n",
    "**Deprecated**! To specify the object to write in the next line, using the `cell` function, we use: `.cell(..., ln=True)`\n",
    "\n",
    "To add a border around the `cell`, we use: `.cell(..., border = True)`"
   ]
  },
  {
   "cell_type": "code",
   "execution_count": 39,
   "metadata": {},
   "outputs": [
    {
     "name": "stderr",
     "output_type": "stream",
     "text": [
      "C:\\Users\\row\\AppData\\Local\\Temp\\ipykernel_3200\\1336659429.py:3: DeprecationWarning: The parameter \"ln\" is deprecated. Instead of ln=True use new_x=XPos.LMARGIN, new_y=YPos.NEXT.\n",
      "  pdf.cell(40, 10, 'Hello world!', ln = True)\n"
     ]
    },
    {
     "data": {
      "text/plain": [
       "False"
      ]
     },
     "execution_count": 39,
     "metadata": {},
     "output_type": "execute_result"
    }
   ],
   "source": [
    "# Add text: 40 mm wide, 10 mm tall, the units are the ones\n",
    "# set before in the `FPDF` object\n",
    "pdf.cell(40, 10, 'Hello world!', ln = True)\n",
    "\n",
    "# Add another cell\n",
    "pdf.cell(80, 10, 'Goodbye world!', border = True)"
   ]
  },
  {
   "attachments": {},
   "cell_type": "markdown",
   "metadata": {},
   "source": [
    "Note, after saving the `FPDF` output via `FPDF.output()` no more modifications can be done so, it is needed to recall the object.\n",
    "\n",
    "It is also **recommended** to open the **pdf** via **web browser** to avoid the **permissions error** and just **refresh** the file within the web browser."
   ]
  },
  {
   "cell_type": "code",
   "execution_count": 40,
   "metadata": {},
   "outputs": [],
   "source": [
    "# Save the output\n",
    "pdf.output('rsrc/pdf_1.pdf')"
   ]
  },
  {
   "attachments": {},
   "cell_type": "markdown",
   "metadata": {},
   "source": [
    "## **[Part 2](https://www.youtube.com/watch?v=JhQVD7Y1bsA&list=PLjNQtX45f0dR9K2sMJ5ad9wVjqslNBIC0&index=2)**"
   ]
  },
  {
   "cell_type": "code",
   "execution_count": 61,
   "metadata": {},
   "outputs": [],
   "source": [
    "# Create a pdf object\n",
    "pdf = FPDF('P', 'mm', 'Letter')\n",
    "\n",
    "# Add a page\n",
    "pdf.add_page()\n",
    "\n",
    "# Specify font\n",
    "pdf.set_font('helvetica', 'BUI', 16)"
   ]
  },
  {
   "attachments": {},
   "cell_type": "markdown",
   "metadata": {},
   "source": [
    "In order to **add** an auto page break and not letting the **text** flow over the current pdf page, we can set:\n",
    "`pdf.set_auto_page_break(auto=True, margin = 15)`"
   ]
  },
  {
   "cell_type": "code",
   "execution_count": 62,
   "metadata": {},
   "outputs": [],
   "source": [
    "pdf.set_auto_page_break(auto = True, margin = 15) # That margin indicates the margin from the bottom when the page break will be se (starts from the bottom - up)"
   ]
  },
  {
   "cell_type": "code",
   "execution_count": 63,
   "metadata": {},
   "outputs": [
    {
     "name": "stderr",
     "output_type": "stream",
     "text": [
      "C:\\Users\\row\\AppData\\Local\\Temp\\ipykernel_3200\\1032330560.py:3: DeprecationWarning: The parameter \"ln\" is deprecated. Instead of ln=True use new_x=XPos.LMARGIN, new_y=YPos.NEXT.\n",
      "  pdf.cell(0, 10, f\"This is line {i} :D\", ln = True) #align=random.choice(['L', 'C', 'X', 'R']), ln=True)\n"
     ]
    }
   ],
   "source": [
    "# Create a loop for writing cells\n",
    "for i in range(41):\n",
    "    pdf.cell(0, 10, f\"This is line {i} :D\", ln = True) #align=random.choice(['L', 'C', 'X', 'R']), ln=True)"
   ]
  },
  {
   "cell_type": "code",
   "execution_count": 64,
   "metadata": {},
   "outputs": [],
   "source": [
    "# Output the pdf\n",
    "pdf.output('rsrc/pdf_2.pdf')"
   ]
  },
  {
   "attachments": {},
   "cell_type": "markdown",
   "metadata": {},
   "source": [
    "In order to add another functionalities like **headers** or **footnotes** we will need to create another class that inherits the `FPDF` class, as follows."
   ]
  },
  {
   "cell_type": "code",
   "execution_count": 65,
   "metadata": {},
   "outputs": [],
   "source": [
    "# Create a new custom PDF class inherited from `FPDF`\n",
    "class PDF(FPDF):\n",
    "    def header(self):\n",
    "        # Set a logo\n",
    "        # If we set the weight (=25), we don't need to set the height of the image, it will be automatically set.\n",
    "        # But, we can still define it if we want it.\n",
    "        self.image('img/raccoon.png', 10, 8, 25) # h = <h>\n",
    "\n",
    "        # Set a font\n",
    "        self.set_font('helvetica', 'B', 20) # Helvetica font with a bold style and size 20\n",
    "\n",
    "        # Set the title\n",
    "        # Add a cell with the page's width, 10 height the text 'Title', once typed move to a new line\n",
    "        # and finally align the text to the center.\n",
    "        self.cell(0, 10, 'Title', ln = True, align = 'C')\n",
    "\n",
    "        # Line break\n",
    "        self.ln(20)"
   ]
  },
  {
   "cell_type": "code",
   "execution_count": 68,
   "metadata": {},
   "outputs": [
    {
     "name": "stderr",
     "output_type": "stream",
     "text": [
      "C:\\Users\\row\\AppData\\Local\\Temp\\ipykernel_3200\\4022700392.py:15: DeprecationWarning: The parameter \"ln\" is deprecated. Instead of ln=True use new_x=XPos.LMARGIN, new_y=YPos.NEXT.\n",
      "  self.cell(0, 10, 'Title', ln = True, align = 'C')\n"
     ]
    }
   ],
   "source": [
    "# Create PDF object\n",
    "pdf = PDF('P', 'mm', 'Letter')\n",
    "\n",
    "# Add a new page\n",
    "pdf.add_page()\n",
    "\n",
    "# Set the auto_page_break\n",
    "pdf.set_auto_page_break(auto = True, margin = 15)\n",
    "\n",
    "# Set the font\n",
    "pdf.set_font('helvetica', '', 16)\n",
    "\n",
    "# Create a loop for writing cells\n",
    "for i in range(41):\n",
    "    pdf.cell(0, 10, f\"This is line {i} :D\", ln = True) #align=random.choice(['L', 'C', 'X', 'R']), ln=True)\n",
    "\n",
    "# Output the pdf\n",
    "pdf.output('rsrc/pdf_2_1.pdf')"
   ]
  }
 ],
 "metadata": {
  "kernelspec": {
   "display_name": "Python 3",
   "language": "python",
   "name": "python3"
  },
  "language_info": {
   "codemirror_mode": {
    "name": "ipython",
    "version": 3
   },
   "file_extension": ".py",
   "mimetype": "text/x-python",
   "name": "python",
   "nbconvert_exporter": "python",
   "pygments_lexer": "ipython3",
   "version": "3.10.5"
  },
  "orig_nbformat": 4
 },
 "nbformat": 4,
 "nbformat_minor": 2
}
